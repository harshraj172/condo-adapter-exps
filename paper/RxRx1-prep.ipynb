{
 "cells": [
  {
   "cell_type": "code",
   "execution_count": 1,
   "id": "7efd094a-22d4-4910-835b-c2c861b71b9c",
   "metadata": {},
   "outputs": [],
   "source": [
    "import os\n",
    "import random\n",
    "import warnings\n",
    "from pathlib import Path\n",
    "\n",
    "import pandas as pd\n",
    "import patsy\n",
    "import numpy as np\n",
    "import ot\n",
    "import seaborn as sns\n",
    "import time"
   ]
  },
  {
   "cell_type": "code",
   "execution_count": 2,
   "id": "e3b7e401-cc87-4c63-8e64-515e7292e7ae",
   "metadata": {},
   "outputs": [],
   "source": [
    "this_file = os.path.realpath('__file__')\n",
    "data_path = os.path.join(Path(this_file).parent.parent, 'data/rxrx1')\n",
    "pheno = pd.read_csv(os.path.join(data_path, 'metadata.csv'),).set_index('site_id')\n",
    "expr = pd.read_csv(os.path.join(data_path, 'embeddings.csv'),).set_index('site_id')"
   ]
  },
  {
   "cell_type": "code",
   "execution_count": 3,
   "id": "3f38f086-4d4e-45e1-9a81-610a1978ed05",
   "metadata": {},
   "outputs": [],
   "source": [
    "idxs = list(pheno.index)\n",
    "random.shuffle(idxs)"
   ]
  },
  {
   "cell_type": "code",
   "execution_count": 4,
   "id": "230e5cab-9143-4d85-b454-dbb2061587e9",
   "metadata": {},
   "outputs": [],
   "source": [
    "pheno = pheno.reindex(idxs)\n",
    "expr = expr.reindex(idxs)"
   ]
  },
  {
   "cell_type": "code",
   "execution_count": 5,
   "id": "96bb6d78-5997-497a-890e-30319015294c",
   "metadata": {},
   "outputs": [
    {
     "name": "stdout",
     "output_type": "stream",
     "text": [
      "(125510, 10) (125510, 128)\n"
     ]
    }
   ],
   "source": [
    "print(pheno.shape, expr.shape)"
   ]
  },
  {
   "cell_type": "code",
   "execution_count": 6,
   "id": "8f476917-597d-4856-92ac-b62dd476e443",
   "metadata": {},
   "outputs": [],
   "source": [
    "pheno.to_csv('RxRx1_lbl.csv', index=False)\n",
    "expr.to_csv('RxRx1_emb.csv', index=False)"
   ]
  }
 ],
 "metadata": {
  "kernelspec": {
   "display_name": "Python 3 (ipykernel)",
   "language": "python",
   "name": "python3"
  },
  "language_info": {
   "codemirror_mode": {
    "name": "ipython",
    "version": 3
   },
   "file_extension": ".py",
   "mimetype": "text/x-python",
   "name": "python",
   "nbconvert_exporter": "python",
   "pygments_lexer": "ipython3",
   "version": "3.9.13"
  }
 },
 "nbformat": 4,
 "nbformat_minor": 5
}
