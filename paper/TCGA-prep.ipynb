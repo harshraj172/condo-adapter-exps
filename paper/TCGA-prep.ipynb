{
 "cells": [
  {
   "cell_type": "code",
   "execution_count": 1,
   "id": "70de53c7-a4fa-4550-824b-d6810c1f1b74",
   "metadata": {},
   "outputs": [],
   "source": [
    "import os\n",
    "import random\n",
    "import warnings\n",
    "from pathlib import Path\n",
    "\n",
    "import pandas as pd\n",
    "import patsy\n",
    "import numpy as np\n",
    "import ot\n",
    "import seaborn as sns\n",
    "import time"
   ]
  },
  {
   "cell_type": "markdown",
   "id": "78d02567-3136-4c88-8e34-7d794a03f6c3",
   "metadata": {},
   "source": [
    "**Gender**"
   ]
  },
  {
   "cell_type": "code",
   "execution_count": 2,
   "id": "1c90d172-0eab-46bb-9ef9-b2ac280caeef",
   "metadata": {},
   "outputs": [],
   "source": [
    "this_file = os.path.realpath('__file__')\n",
    "data_path = os.path.join(Path(this_file).parent.parent, 'data')\n",
    "pheno = pd.read_csv(os.path.join(data_path, 'TCGA_GBM_and_LGG_SEX_LABELS.tsv'), sep='\\t', index_col=0, names=['gender'], header=0)\n",
    "expr = pd.read_csv(os.path.join(data_path, 'TCGA_GBM_and_LGG_PREPROCESSED_RNASEQ_EXPRESSION.tsv'), sep='\\t', index_col=0)\n",
    "lbl = pd.read_csv(os.path.join(data_path, 'TCGA_GBM_and_LGG_SUBTYPE_LABELS.tsv'), sep='\\t', index_col=0, names=['result'], header=0)"
   ]
  },
  {
   "cell_type": "code",
   "execution_count": 28,
   "id": "23b91f7c-18ea-406e-8786-d1ab1c4419ad",
   "metadata": {},
   "outputs": [],
   "source": [
    "pheno_idxs = set(pheno.index)\n",
    "expr_idxs = set(expr.index)\n",
    "lbl_idxs = set(lbl.index)\n",
    "idxs = pheno_idxs.intersection(expr_idxs, lbl_idxs)\n",
    "idxs_ = list(idxs)"
   ]
  },
  {
   "cell_type": "code",
   "execution_count": 29,
   "id": "d0ab328d-9545-4596-b90c-96c39af9c9bf",
   "metadata": {},
   "outputs": [],
   "source": [
    "random.shuffle(idxs_)"
   ]
  },
  {
   "cell_type": "code",
   "execution_count": 30,
   "id": "92daa715-9377-47c1-9a83-bf019a9e2e3b",
   "metadata": {},
   "outputs": [],
   "source": [
    "expr_ = expr[expr.index.isin(idxs)]\n",
    "expr_ = expr_.reindex(idxs_)\n",
    "\n",
    "pheno_ = pheno[pheno.index.isin(idxs)]\n",
    "pheno_ = pheno_.reindex(idxs_)\n",
    "\n",
    "lbl_ = lbl[lbl.index.isin(idxs)]\n",
    "lbl_ = lbl_.reindex(idxs_)"
   ]
  },
  {
   "cell_type": "code",
   "execution_count": 34,
   "id": "0a6ce250-0e0c-4f1f-83e9-2fe6917b00cf",
   "metadata": {},
   "outputs": [],
   "source": [
    "pheno_ = pd.concat([pheno_, lbl_], axis=1)"
   ]
  },
  {
   "cell_type": "code",
   "execution_count": 35,
   "id": "218e53ef-2c4b-483a-a1ac-352f1b9e0e44",
   "metadata": {},
   "outputs": [
    {
     "name": "stdout",
     "output_type": "stream",
     "text": [
      "(670, 20502) (670, 2)\n"
     ]
    }
   ],
   "source": [
    "print(expr_.shape, pheno_.shape)"
   ]
  },
  {
   "cell_type": "code",
   "execution_count": 36,
   "id": "f0068e6a-02fb-4086-a3b0-6c224315756d",
   "metadata": {},
   "outputs": [],
   "source": [
    "pheno_.to_csv('TCGA_GBM_and_LGG_SEX_LABELS.csv')\n",
    "expr_.to_csv('TCGA_GBM_and_LGG_SEX_PREPROCESSED_RNASEQ_EXPRESSION.csv')"
   ]
  },
  {
   "cell_type": "markdown",
   "id": "bd166c1c-a406-4a9c-a360-f292fbb37c30",
   "metadata": {},
   "source": [
    "**AGE**"
   ]
  },
  {
   "cell_type": "code",
   "execution_count": 4,
   "id": "def3b120-eba9-4f43-955c-37793e593a01",
   "metadata": {},
   "outputs": [],
   "source": [
    "this_file = os.path.realpath('__file__')\n",
    "data_path = os.path.join(Path(this_file).parent.parent, 'data')\n",
    "pheno = pd.read_csv(os.path.join(data_path, 'TCGA_GBM_and_LGG_AGE_LABELS.tsv'), sep='\\t', index_col=0, names=['gender'], header=0)\n",
    "expr = pd.read_csv(os.path.join(data_path, 'TCGA_GBM_and_LGG_PREPROCESSED_RNASEQ_EXPRESSION.tsv'), sep='\\t', index_col=0)\n",
    "lbl = pd.read_csv(os.path.join(data_path, 'TCGA_GBM_and_LGG_SUBTYPE_LABELS.tsv'), sep='\\t', index_col=0, names=['result'], header=0)"
   ]
  },
  {
   "cell_type": "code",
   "execution_count": null,
   "id": "6df39204-4a10-40cd-8988-4a2e327661fd",
   "metadata": {},
   "outputs": [],
   "source": [
    "pheno_idxs = set(pheno.index)\n",
    "expr_idxs = set(expr.index)\n",
    "lbl_idxs = set(lbl.index)\n",
    "idxs = pheno_idxs.intersection(expr_idxs, lbl_idxs)\n",
    "idxs_ = list(idxs)"
   ]
  }
 ],
 "metadata": {
  "kernelspec": {
   "display_name": "Python 3 (ipykernel)",
   "language": "python",
   "name": "python3"
  },
  "language_info": {
   "codemirror_mode": {
    "name": "ipython",
    "version": 3
   },
   "file_extension": ".py",
   "mimetype": "text/x-python",
   "name": "python",
   "nbconvert_exporter": "python",
   "pygments_lexer": "ipython3",
   "version": "3.9.13"
  }
 },
 "nbformat": 4,
 "nbformat_minor": 5
}
